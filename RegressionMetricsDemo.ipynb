{
  "nbformat": 4,
  "nbformat_minor": 0,
  "metadata": {
    "colab": {
      "name": "RegressionMetricsDemo.ipynb",
      "provenance": []
    },
    "kernelspec": {
      "name": "python3",
      "display_name": "Python 3"
    },
    "language_info": {
      "name": "python"
    },
    "accelerator": "GPU"
  },
  "cells": [
    {
      "cell_type": "code",
      "execution_count": 2,
      "metadata": {
        "colab": {
          "base_uri": "https://localhost:8080/"
        },
        "id": "6wxtEPndx0g6",
        "outputId": "849ec6f8-33ff-4f4c-b152-a0c67ac03972"
      },
      "outputs": [
        {
          "output_type": "stream",
          "name": "stdout",
          "text": [
            "Epoch 1/10\n",
            "13/13 [==============================] - 2s 29ms/step - loss: 461.6622 - R2CoefScore: 0.9004 - MeanAbsoErr: 14.6653 - MeanSqrtErr: 461.6622 - RootMeanSqrtErr: 14.6653 - MeanAbsPercErr: 75.2677 - RootMeanSqrtLogErr: 0.7278 - NormRootMeanSqrtErr: 0.7527 - val_loss: 300.4463 - val_R2CoefScore: 0.8947 - val_MeanAbsoErr: 15.4050 - val_MeanSqrtErr: 300.4463 - val_RootMeanSqrtErr: 15.4050 - val_MeanAbsPercErr: 69.2703 - val_RootMeanSqrtLogErr: 1.2662 - val_NormRootMeanSqrtErr: 0.6927\n",
            "Epoch 2/10\n",
            "13/13 [==============================] - 0s 4ms/step - loss: 184.7860 - R2CoefScore: 0.9527 - MeanAbsoErr: 10.9894 - MeanSqrtErr: 184.7860 - RootMeanSqrtErr: 10.9894 - MeanAbsPercErr: 56.5819 - RootMeanSqrtLogErr: 0.5995 - NormRootMeanSqrtErr: 0.5658 - val_loss: 305.9124 - val_R2CoefScore: 0.8910 - val_MeanAbsoErr: 15.4291 - val_MeanSqrtErr: 305.9124 - val_RootMeanSqrtErr: 15.4291 - val_MeanAbsPercErr: 71.9620 - val_RootMeanSqrtLogErr: 1.3943 - val_NormRootMeanSqrtErr: 0.7196\n",
            "Epoch 3/10\n",
            "13/13 [==============================] - 0s 5ms/step - loss: 198.5649 - R2CoefScore: 0.9507 - MeanAbsoErr: 12.0198 - MeanSqrtErr: 198.5649 - RootMeanSqrtErr: 12.0198 - MeanAbsPercErr: 62.6733 - RootMeanSqrtLogErr: 0.6901 - NormRootMeanSqrtErr: 0.6267 - val_loss: 80.2263 - val_R2CoefScore: 0.9807 - val_MeanAbsoErr: 7.0446 - val_MeanSqrtErr: 80.2263 - val_RootMeanSqrtErr: 7.0446 - val_MeanAbsPercErr: 43.2890 - val_RootMeanSqrtLogErr: 0.3114 - val_NormRootMeanSqrtErr: 0.4329\n",
            "Epoch 4/10\n",
            "13/13 [==============================] - 0s 6ms/step - loss: 197.9205 - R2CoefScore: 0.9613 - MeanAbsoErr: 10.8593 - MeanSqrtErr: 197.9205 - RootMeanSqrtErr: 10.8593 - MeanAbsPercErr: 56.8981 - RootMeanSqrtLogErr: 0.5830 - NormRootMeanSqrtErr: 0.5690 - val_loss: 139.6424 - val_R2CoefScore: 0.9512 - val_MeanAbsoErr: 9.2244 - val_MeanSqrtErr: 139.6424 - val_RootMeanSqrtErr: 9.2244 - val_MeanAbsPercErr: 38.9547 - val_RootMeanSqrtLogErr: 0.5582 - val_NormRootMeanSqrtErr: 0.3895\n",
            "Epoch 5/10\n",
            "13/13 [==============================] - 0s 4ms/step - loss: 164.3372 - R2CoefScore: 0.9641 - MeanAbsoErr: 10.6009 - MeanSqrtErr: 164.3372 - RootMeanSqrtErr: 10.6009 - MeanAbsPercErr: 55.5600 - RootMeanSqrtLogErr: 0.5740 - NormRootMeanSqrtErr: 0.5556 - val_loss: 142.1380 - val_R2CoefScore: 0.9564 - val_MeanAbsoErr: 10.7172 - val_MeanSqrtErr: 142.1380 - val_RootMeanSqrtErr: 10.7172 - val_MeanAbsPercErr: 63.0724 - val_RootMeanSqrtLogErr: 0.4243 - val_NormRootMeanSqrtErr: 0.6307\n",
            "Epoch 6/10\n",
            "13/13 [==============================] - 0s 5ms/step - loss: 176.5649 - R2CoefScore: 0.9584 - MeanAbsoErr: 11.0135 - MeanSqrtErr: 176.5649 - RootMeanSqrtErr: 11.0135 - MeanAbsPercErr: 56.6267 - RootMeanSqrtLogErr: 0.5719 - NormRootMeanSqrtErr: 0.5663 - val_loss: 217.2575 - val_R2CoefScore: 0.9235 - val_MeanAbsoErr: 12.4566 - val_MeanSqrtErr: 217.2575 - val_RootMeanSqrtErr: 12.4566 - val_MeanAbsPercErr: 55.4557 - val_RootMeanSqrtLogErr: 0.9559 - val_NormRootMeanSqrtErr: 0.5546\n",
            "Epoch 7/10\n",
            "13/13 [==============================] - 0s 4ms/step - loss: 157.5359 - R2CoefScore: 0.9567 - MeanAbsoErr: 9.5872 - MeanSqrtErr: 157.5359 - RootMeanSqrtErr: 9.5872 - MeanAbsPercErr: 50.5483 - RootMeanSqrtLogErr: 0.5250 - NormRootMeanSqrtErr: 0.5055 - val_loss: 411.2795 - val_R2CoefScore: 0.8542 - val_MeanAbsoErr: 18.6303 - val_MeanSqrtErr: 411.2795 - val_RootMeanSqrtErr: 18.6303 - val_MeanAbsPercErr: 85.9467 - val_RootMeanSqrtLogErr: 1.6382 - val_NormRootMeanSqrtErr: 0.8595\n",
            "Epoch 8/10\n",
            "13/13 [==============================] - 0s 4ms/step - loss: 115.8139 - R2CoefScore: 0.9795 - MeanAbsoErr: 7.9076 - MeanSqrtErr: 115.8139 - RootMeanSqrtErr: 7.9076 - MeanAbsPercErr: 39.5189 - RootMeanSqrtLogErr: 0.3936 - NormRootMeanSqrtErr: 0.3952 - val_loss: 72.1911 - val_R2CoefScore: 0.9813 - val_MeanAbsoErr: 6.7830 - val_MeanSqrtErr: 72.1911 - val_RootMeanSqrtErr: 6.7830 - val_MeanAbsPercErr: 40.6487 - val_RootMeanSqrtLogErr: 0.2993 - val_NormRootMeanSqrtErr: 0.4065\n",
            "Epoch 9/10\n",
            "13/13 [==============================] - 0s 5ms/step - loss: 214.5103 - R2CoefScore: 0.9397 - MeanAbsoErr: 10.9144 - MeanSqrtErr: 214.5103 - RootMeanSqrtErr: 10.9144 - MeanAbsPercErr: 56.2217 - RootMeanSqrtLogErr: 0.5520 - NormRootMeanSqrtErr: 0.5622 - val_loss: 87.2555 - val_R2CoefScore: 0.9733 - val_MeanAbsoErr: 6.8626 - val_MeanSqrtErr: 87.2555 - val_RootMeanSqrtErr: 6.8626 - val_MeanAbsPercErr: 28.4989 - val_RootMeanSqrtLogErr: 0.3236 - val_NormRootMeanSqrtErr: 0.2850\n",
            "Epoch 10/10\n",
            "13/13 [==============================] - 0s 6ms/step - loss: 159.1116 - R2CoefScore: 0.9662 - MeanAbsoErr: 9.1501 - MeanSqrtErr: 159.1116 - RootMeanSqrtErr: 9.1501 - MeanAbsPercErr: 46.7719 - RootMeanSqrtLogErr: 0.5018 - NormRootMeanSqrtErr: 0.4677 - val_loss: 69.8977 - val_R2CoefScore: 0.9841 - val_MeanAbsoErr: 6.0780 - val_MeanSqrtErr: 69.8977 - val_RootMeanSqrtErr: 6.0780 - val_MeanAbsPercErr: 32.4612 - val_RootMeanSqrtLogErr: 0.2741 - val_NormRootMeanSqrtErr: 0.3246\n"
          ]
        },
        {
          "output_type": "execute_result",
          "data": {
            "text/plain": [
              "<keras.callbacks.History at 0x7f78e997f550>"
            ]
          },
          "metadata": {},
          "execution_count": 2
        }
      ],
      "source": [
        "try:\n",
        "  from regressionmetrics.keras import *\n",
        "except:\n",
        "  import os\n",
        "  os.system(\"pip install regressionmetrics\")\n",
        "\n",
        "from regressionmetrics.keras import *\n",
        "import pandas as pd\n",
        "import numpy as np\n",
        "\n",
        "import tensorflow as tf\n",
        "from tensorflow import keras\n",
        "from tensorflow.keras import layers\n",
        "\n",
        "(x_train, y_train), (x_test, y_test) = tf.keras.datasets.boston_housing.load_data(path=\"boston_housing.npz\", test_split=0.2, seed=113)\n",
        "\n",
        "model = keras.Sequential([\n",
        "    layers.Dense(64, activation='relu', input_shape=(x_train.shape[1],)),\n",
        "    layers.Dense(64, activation='relu'),\n",
        "    layers.Dense(1)\n",
        "])\n",
        "model.compile(optimizer='rmsprop', loss='mse', metrics=[R2CoefScore, \n",
        "                                                        MeanAbsoErr, \n",
        "                                                        MeanSqrtErr, \n",
        "                                                        RootMeanSqrtErr, \n",
        "                                                        MeanAbsPercErr, \n",
        "                                                        RootMeanSqrtLogErr, \n",
        "                                                        NormRootMeanSqrtErr])\n",
        "model.fit(x_train, y_train, epochs=10, batch_size=32, validation_data=(x_test, y_test))"
      ]
    },
    {
      "cell_type": "markdown",
      "source": [
        "### Adjusted R2 Score Checking"
      ],
      "metadata": {
        "id": "sdrNkoNv76MP"
      }
    },
    {
      "cell_type": "code",
      "source": [
        "from regressionmetrics.keras import *\n",
        "\n",
        "import pandas as pd\n",
        "import numpy as np\n",
        "\n",
        "import tensorflow as tf\n",
        "from tensorflow import keras\n",
        "from tensorflow.keras import layers\n",
        "\n",
        "(x_train, y_train), (x_test, y_test) = tf.keras.datasets.boston_housing.load_data(path=\"boston_housing.npz\", test_split=0.2, seed=113)\n",
        "\n",
        "print(x_train.dtype, y_train.dtype, x_test.dtype, y_test.dtype)\n",
        "model = keras.Sequential([\n",
        "    layers.Dense(64, activation='relu', input_shape=(x_train.shape[1],)),\n",
        "    layers.Dense(64, activation='relu'),\n",
        "    layers.Dense(1)\n",
        "])\n",
        "model.compile(optimizer='rmsprop', loss='mae', metrics=[R2CoefScore, AdjR2CoefScore])\n",
        "model.fit(x_train, y_train, epochs=10, batch_size=32, validation_data=(x_test, y_test))"
      ],
      "metadata": {
        "colab": {
          "base_uri": "https://localhost:8080/"
        },
        "id": "e3WRdtl779I_",
        "outputId": "c5a1c786-d033-4423-98f1-52db8e2cfb37"
      },
      "execution_count": 3,
      "outputs": [
        {
          "output_type": "stream",
          "name": "stdout",
          "text": [
            "float64 float64 float64 float64\n",
            "Epoch 1/10\n",
            "13/13 [==============================] - 1s 21ms/step - loss: 38.6285 - R2CoefScore: -0.2374 - AdjR2CoefScore: 12.3941 - val_loss: 8.1920 - val_R2CoefScore: 0.9699 - val_AdjR2CoefScore: 0.9369\n",
            "Epoch 2/10\n",
            "13/13 [==============================] - 0s 5ms/step - loss: 13.6232 - R2CoefScore: 0.9301 - AdjR2CoefScore: 0.8683 - val_loss: 11.6862 - val_R2CoefScore: 0.9450 - val_AdjR2CoefScore: 0.8898\n",
            "Epoch 3/10\n",
            "13/13 [==============================] - 0s 4ms/step - loss: 10.9884 - R2CoefScore: 0.9536 - AdjR2CoefScore: 0.9100 - val_loss: 6.5358 - val_R2CoefScore: 0.9813 - val_AdjR2CoefScore: 0.9599\n",
            "Epoch 4/10\n",
            "13/13 [==============================] - 0s 5ms/step - loss: 10.7548 - R2CoefScore: 0.9638 - AdjR2CoefScore: 0.9278 - val_loss: 16.7073 - val_R2CoefScore: 0.8927 - val_AdjR2CoefScore: 0.7934\n",
            "Epoch 5/10\n",
            "13/13 [==============================] - 0s 4ms/step - loss: 11.1149 - R2CoefScore: 0.9575 - AdjR2CoefScore: 0.9161 - val_loss: 9.2592 - val_R2CoefScore: 0.9590 - val_AdjR2CoefScore: 0.9160\n",
            "Epoch 6/10\n",
            "13/13 [==============================] - 0s 4ms/step - loss: 10.9138 - R2CoefScore: 0.9559 - AdjR2CoefScore: 0.9134 - val_loss: 15.3846 - val_R2CoefScore: 0.9112 - val_AdjR2CoefScore: 0.8257\n",
            "Epoch 7/10\n",
            "13/13 [==============================] - 0s 4ms/step - loss: 11.0101 - R2CoefScore: 0.9544 - AdjR2CoefScore: 0.9107 - val_loss: 8.6935 - val_R2CoefScore: 0.9658 - val_AdjR2CoefScore: 0.9292\n",
            "Epoch 8/10\n",
            "13/13 [==============================] - 0s 4ms/step - loss: 9.2991 - R2CoefScore: 0.9637 - AdjR2CoefScore: 0.9298 - val_loss: 13.9994 - val_R2CoefScore: 0.9245 - val_AdjR2CoefScore: 0.8508\n",
            "Epoch 9/10\n",
            "13/13 [==============================] - 0s 4ms/step - loss: 10.8715 - R2CoefScore: 0.9513 - AdjR2CoefScore: 0.9067 - val_loss: 7.4039 - val_R2CoefScore: 0.9737 - val_AdjR2CoefScore: 0.9444\n",
            "Epoch 10/10\n",
            "13/13 [==============================] - 0s 4ms/step - loss: 10.5106 - R2CoefScore: 0.9632 - AdjR2CoefScore: 0.9270 - val_loss: 8.5580 - val_R2CoefScore: 0.9733 - val_AdjR2CoefScore: 0.9446\n"
          ]
        },
        {
          "output_type": "execute_result",
          "data": {
            "text/plain": [
              "<keras.callbacks.History at 0x7f78e50a5ad0>"
            ]
          },
          "metadata": {},
          "execution_count": 3
        }
      ]
    },
    {
      "cell_type": "markdown",
      "source": [
        "### With Scikit Learn"
      ],
      "metadata": {
        "id": "p6vGElnq8DfS"
      }
    },
    {
      "cell_type": "code",
      "source": [
        "from regressionmetrics.metrics import *\n",
        "y_true = [3, 0.5, 2, 7]\n",
        "y_pred = [2.5, 0.0, 2, -8]\n",
        "\n",
        "print(\"R2Score: \",R2CoefScore(y_true, y_pred))\n",
        "print(\"Adjusted_R2_Score:\",AdjR2CoefScore(y_true, y_pred))\n",
        "print(\"RMSE:\", RootMeanSqrtErr(y_true, y_pred))\n",
        "print(\"MAE:\",MeanAbsoErr(y_true, y_pred))\n",
        "print(\"RMSLE with Neg Value:\", RootMeanSqrtLogErrNeg(y_true, y_pred))\n",
        "print(\"MSE:\", MeanSqrtErr(y_true, y_pred))\n",
        "print(\"MAPE: \", MeanAbsPercErr(y_true, y_pred))"
      ],
      "metadata": {
        "colab": {
          "base_uri": "https://localhost:8080/"
        },
        "id": "DL0qWyV28Ftd",
        "outputId": "e9d53433-7193-4c79-bd88-e339fa5388ad"
      },
      "execution_count": 4,
      "outputs": [
        {
          "output_type": "stream",
          "name": "stdout",
          "text": [
            "R2Score:  -8.725067385444744\n",
            "Adjusted_R2_Score: 20.450134770889484\n",
            "RMSE: 7.508328708840604\n",
            "MAE: 4.0\n",
            "RMSLE with Neg Value: 0.21344354447336292\n",
            "MSE: 56.375\n",
            "MAPE:  0.8273809523809523\n"
          ]
        }
      ]
    }
  ]
}